{
 "cells": [
  {
   "cell_type": "code",
   "execution_count": 1,
   "metadata": {},
   "outputs": [],
   "source": [
    "import pandas as pd\n",
    "import numpy as np\n",
    "import torch"
   ]
  },
  {
   "cell_type": "code",
   "execution_count": 5,
   "metadata": {},
   "outputs": [
    {
     "data": {
      "text/html": [
       "<div>\n",
       "<style scoped>\n",
       "    .dataframe tbody tr th:only-of-type {\n",
       "        vertical-align: middle;\n",
       "    }\n",
       "\n",
       "    .dataframe tbody tr th {\n",
       "        vertical-align: top;\n",
       "    }\n",
       "\n",
       "    .dataframe thead th {\n",
       "        text-align: right;\n",
       "    }\n",
       "</style>\n",
       "<table border=\"1\" class=\"dataframe\">\n",
       "  <thead>\n",
       "    <tr style=\"text-align: right;\">\n",
       "      <th></th>\n",
       "      <th>accx</th>\n",
       "      <th>accy</th>\n",
       "      <th>accz</th>\n",
       "      <th>gyrox</th>\n",
       "      <th>gyroy</th>\n",
       "      <th>gyroz</th>\n",
       "      <th>labels</th>\n",
       "    </tr>\n",
       "  </thead>\n",
       "  <tbody>\n",
       "    <tr>\n",
       "      <th>0</th>\n",
       "      <td>0.459151</td>\n",
       "      <td>-0.591990</td>\n",
       "      <td>-0.530524</td>\n",
       "      <td>0.167089</td>\n",
       "      <td>0.026853</td>\n",
       "      <td>0.077674</td>\n",
       "      <td>5</td>\n",
       "    </tr>\n",
       "    <tr>\n",
       "      <th>1</th>\n",
       "      <td>0.479760</td>\n",
       "      <td>-0.581099</td>\n",
       "      <td>-0.545450</td>\n",
       "      <td>0.152189</td>\n",
       "      <td>0.059052</td>\n",
       "      <td>0.172579</td>\n",
       "      <td>5</td>\n",
       "    </tr>\n",
       "    <tr>\n",
       "      <th>2</th>\n",
       "      <td>0.503805</td>\n",
       "      <td>-0.591990</td>\n",
       "      <td>-0.565352</td>\n",
       "      <td>0.169145</td>\n",
       "      <td>0.080519</td>\n",
       "      <td>0.185095</td>\n",
       "      <td>5</td>\n",
       "    </tr>\n",
       "    <tr>\n",
       "      <th>3</th>\n",
       "      <td>0.541590</td>\n",
       "      <td>-0.595621</td>\n",
       "      <td>-0.411115</td>\n",
       "      <td>0.146537</td>\n",
       "      <td>0.276398</td>\n",
       "      <td>0.205953</td>\n",
       "      <td>5</td>\n",
       "    </tr>\n",
       "    <tr>\n",
       "      <th>4</th>\n",
       "      <td>0.459151</td>\n",
       "      <td>-0.591990</td>\n",
       "      <td>-0.316582</td>\n",
       "      <td>0.265226</td>\n",
       "      <td>0.394462</td>\n",
       "      <td>0.211168</td>\n",
       "      <td>5</td>\n",
       "    </tr>\n",
       "    <tr>\n",
       "      <th>...</th>\n",
       "      <td>...</td>\n",
       "      <td>...</td>\n",
       "      <td>...</td>\n",
       "      <td>...</td>\n",
       "      <td>...</td>\n",
       "      <td>...</td>\n",
       "      <td>...</td>\n",
       "    </tr>\n",
       "    <tr>\n",
       "      <th>175297</th>\n",
       "      <td>0.637307</td>\n",
       "      <td>-0.557568</td>\n",
       "      <td>-0.814022</td>\n",
       "      <td>-0.695706</td>\n",
       "      <td>-0.760739</td>\n",
       "      <td>0.406168</td>\n",
       "      <td>2</td>\n",
       "    </tr>\n",
       "    <tr>\n",
       "      <th>175298</th>\n",
       "      <td>0.765722</td>\n",
       "      <td>-0.513891</td>\n",
       "      <td>-0.810846</td>\n",
       "      <td>-0.852813</td>\n",
       "      <td>-0.660414</td>\n",
       "      <td>0.453271</td>\n",
       "      <td>2</td>\n",
       "    </tr>\n",
       "    <tr>\n",
       "      <th>175299</th>\n",
       "      <td>0.620410</td>\n",
       "      <td>-0.867672</td>\n",
       "      <td>-1.236365</td>\n",
       "      <td>-0.272249</td>\n",
       "      <td>-1.654690</td>\n",
       "      <td>0.630746</td>\n",
       "      <td>2</td>\n",
       "    </tr>\n",
       "    <tr>\n",
       "      <th>175300</th>\n",
       "      <td>1.377383</td>\n",
       "      <td>-1.618912</td>\n",
       "      <td>-1.334806</td>\n",
       "      <td>-0.446249</td>\n",
       "      <td>0.255559</td>\n",
       "      <td>0.667755</td>\n",
       "      <td>2</td>\n",
       "    </tr>\n",
       "    <tr>\n",
       "      <th>175301</th>\n",
       "      <td>1.597041</td>\n",
       "      <td>-1.579603</td>\n",
       "      <td>-1.134749</td>\n",
       "      <td>0.199636</td>\n",
       "      <td>0.065513</td>\n",
       "      <td>0.734203</td>\n",
       "      <td>2</td>\n",
       "    </tr>\n",
       "  </tbody>\n",
       "</table>\n",
       "<p>175302 rows × 7 columns</p>\n",
       "</div>"
      ],
      "text/plain": [
       "            accx      accy      accz     gyrox     gyroy     gyroz  labels\n",
       "0       0.459151 -0.591990 -0.530524  0.167089  0.026853  0.077674       5\n",
       "1       0.479760 -0.581099 -0.545450  0.152189  0.059052  0.172579       5\n",
       "2       0.503805 -0.591990 -0.565352  0.169145  0.080519  0.185095       5\n",
       "3       0.541590 -0.595621 -0.411115  0.146537  0.276398  0.205953       5\n",
       "4       0.459151 -0.591990 -0.316582  0.265226  0.394462  0.211168       5\n",
       "...          ...       ...       ...       ...       ...       ...     ...\n",
       "175297  0.637307 -0.557568 -0.814022 -0.695706 -0.760739  0.406168       2\n",
       "175298  0.765722 -0.513891 -0.810846 -0.852813 -0.660414  0.453271       2\n",
       "175299  0.620410 -0.867672 -1.236365 -0.272249 -1.654690  0.630746       2\n",
       "175300  1.377383 -1.618912 -1.334806 -0.446249  0.255559  0.667755       2\n",
       "175301  1.597041 -1.579603 -1.134749  0.199636  0.065513  0.734203       2\n",
       "\n",
       "[175302 rows x 7 columns]"
      ]
     },
     "execution_count": 5,
     "metadata": {},
     "output_type": "execute_result"
    }
   ],
   "source": [
    "csvpath = 'test_csv.csv'\n",
    "win_size = 10\n",
    "win_shift = 5\n",
    "\n",
    "df = pd.read_csv(csvpath, sep=\" \")\n",
    "df"
   ]
  },
  {
   "cell_type": "code",
   "execution_count": 7,
   "metadata": {},
   "outputs": [
    {
     "data": {
      "text/plain": [
       "[       accx      accy      accz     gyrox     gyroy     gyroz  labels\n",
       " 0  0.459151 -0.591990 -0.530524  0.167089  0.026853  0.077674       5\n",
       " 1  0.479760 -0.581099 -0.545450  0.152189  0.059052  0.172579       5\n",
       " 2  0.503805 -0.591990 -0.565352  0.169145  0.080519  0.185095       5\n",
       " 3  0.541590 -0.595621 -0.411115  0.146537  0.276398  0.205953       5\n",
       " 4  0.459151 -0.591990 -0.316582  0.265226  0.394462  0.211168       5\n",
       " 5  0.366406 -0.533902 -0.187223  0.309927  0.386412  0.105832       5\n",
       " 6  0.345796 -0.508488 -0.142444  0.188669  0.350635 -0.077722       5\n",
       " 7  0.431671 -0.515749 -0.092690 -0.074912  0.359580 -0.186186       5\n",
       " 8  0.541590 -0.541163 -0.107616 -0.149927  0.460650 -0.104838       5\n",
       " 9  0.514110 -0.577468 -0.212099 -0.154552  0.504477 -0.143426       5,\n",
       "         accx      accy      accz     gyrox     gyroy     gyroz  labels\n",
       " 5   0.366406 -0.533902 -0.187223  0.309927  0.386412  0.105832       5\n",
       " 6   0.345796 -0.508488 -0.142444  0.188669  0.350635 -0.077722       5\n",
       " 7   0.431671 -0.515749 -0.092690 -0.074912  0.359580 -0.186186       5\n",
       " 8   0.541590 -0.541163 -0.107616 -0.149927  0.460650 -0.104838       5\n",
       " 9   0.514110 -0.577468 -0.212099 -0.154552  0.504477 -0.143426       5\n",
       " 10  0.493500 -0.581099 -0.177272 -0.248578  0.538465 -0.148641       5\n",
       " 11  0.321751 -0.483075 -0.127518 -0.095464  0.389096 -0.067293       5\n",
       " 12  0.301141 -0.472183 -0.162346 -0.119613  0.122557 -0.076679       5\n",
       " 13  0.325186 -0.446769 -0.241952 -0.098547  0.099302 -0.139254       5\n",
       " 14  0.338926 -0.399572 -0.236976  0.004214 -0.069745 -0.222688       5,\n",
       "         accx      accy      accz     gyrox     gyroy     gyroz  labels\n",
       " 10  0.493500 -0.581099 -0.177272 -0.248578  0.538465 -0.148641       5\n",
       " 11  0.321751 -0.483075 -0.127518 -0.095464  0.389096 -0.067293       5\n",
       " 12  0.301141 -0.472183 -0.162346 -0.119613  0.122557 -0.076679       5\n",
       " 13  0.325186 -0.446769 -0.241952 -0.098547  0.099302 -0.139254       5\n",
       " 14  0.338926 -0.399572 -0.236976  0.004214 -0.069745 -0.222688       5\n",
       " 15  0.338926 -0.403203 -0.192198  0.116737 -0.361328 -0.298821       5\n",
       " 16  0.349231 -0.377789 -0.142444  0.127527 -0.643967 -0.378083       5\n",
       " 17  0.397321 -0.417725 -0.281755  0.066898 -0.779920 -0.317594       5\n",
       " 18  0.476325 -0.479444 -0.376287  0.049942 -0.812119 -0.196615       5\n",
       " 19  0.764864 -0.512119 -0.590229 -0.010173 -0.639495 -0.003674       5]"
      ]
     },
     "execution_count": 7,
     "metadata": {},
     "output_type": "execute_result"
    }
   ],
   "source": [
    "list_feat = []\n",
    "for i in range(0, int((len(df) - win_size) / win_shift) + 1):\n",
    "    list_feat.append(\n",
    "        df[i * win_shift : i * win_shift + win_size]\n",
    "    )\n",
    "\n",
    "list_feat[:3]"
   ]
  },
  {
   "cell_type": "code",
   "execution_count": 30,
   "metadata": {},
   "outputs": [
    {
     "data": {
      "text/plain": [
       "array([0, 0, 0, 0, 0, 3, 0, 0, 0, 0, 0, 7])"
      ]
     },
     "execution_count": 30,
     "metadata": {},
     "output_type": "execute_result"
    }
   ],
   "source": [
    "y_arr = np.array(list_feat, dtype=np.int32)[:, :, 6]\n",
    "np.bincount(y_arr[729])"
   ]
  },
  {
   "cell_type": "code",
   "execution_count": 10,
   "metadata": {},
   "outputs": [
    {
     "name": "stdout",
     "output_type": "stream",
     "text": [
      "[ 0  0  0  0  0 10]\n",
      "[5]\n"
     ]
    }
   ],
   "source": [
    "y_lst = []\n",
    "for e in range(len(y_arr)):\n",
    "    cn = np.bincount(y_arr[e])\n",
    "    y_lst.append(np.argmax(cn))\n",
    "    print(cn)\n",
    "    print(y_lst)\n",
    "    break"
   ]
  },
  {
   "cell_type": "code",
   "execution_count": 32,
   "metadata": {},
   "outputs": [
    {
     "data": {
      "text/plain": [
       "tensor([[ 0.4592, -0.5920, -0.5305,  0.1671,  0.0269,  0.0777],\n",
       "        [ 0.4798, -0.5811, -0.5455,  0.1522,  0.0591,  0.1726],\n",
       "        [ 0.5038, -0.5920, -0.5654,  0.1691,  0.0805,  0.1851],\n",
       "        [ 0.5416, -0.5956, -0.4111,  0.1465,  0.2764,  0.2060],\n",
       "        [ 0.4592, -0.5920, -0.3166,  0.2652,  0.3945,  0.2112],\n",
       "        [ 0.3664, -0.5339, -0.1872,  0.3099,  0.3864,  0.1058],\n",
       "        [ 0.3458, -0.5085, -0.1424,  0.1887,  0.3506, -0.0777],\n",
       "        [ 0.4317, -0.5157, -0.0927, -0.0749,  0.3596, -0.1862],\n",
       "        [ 0.5416, -0.5412, -0.1076, -0.1499,  0.4606, -0.1048],\n",
       "        [ 0.5141, -0.5775, -0.2121, -0.1546,  0.5045, -0.1434]])"
      ]
     },
     "execution_count": 32,
     "metadata": {},
     "output_type": "execute_result"
    }
   ],
   "source": [
    "X = torch.tensor(np.array(list_feat)[:, :, :6], dtype=torch.float)\n",
    "y = torch.tensor(np.array(y_lst) - 1, dtype=torch.long)\n",
    "X[0]"
   ]
  },
  {
   "cell_type": "code",
   "execution_count": 37,
   "metadata": {},
   "outputs": [
    {
     "data": {
      "text/plain": [
       "array([[[0., 0., 0., 0., 0., 0.],\n",
       "        [0., 0., 0., 0., 0., 0.],\n",
       "        [0., 0., 0., 0., 0., 0.],\n",
       "        [0., 0., 0., 0., 0., 0.],\n",
       "        [0., 0., 0., 0., 0., 0.],\n",
       "        [0., 0., 0., 0., 0., 0.]]])"
      ]
     },
     "execution_count": 37,
     "metadata": {},
     "output_type": "execute_result"
    }
   ],
   "source": [
    "num_node = 6\n",
    "adjacency = np.zeros((num_node, num_node))\n",
    "\n",
    "def normalize_digraph(A):\n",
    "    Dl = np.sum(A, 0)\n",
    "    num_node = A.shape[0]\n",
    "    Dn = np.zeros((num_node, num_node))\n",
    "    for i in range(num_node):\n",
    "        if Dl[i] > 0:\n",
    "            Dn[i, i] = Dl[i]**(-1)\n",
    "    AD = np.dot(A, Dn)\n",
    "    return AD\n",
    "\n",
    "normalize_adjacency = normalize_digraph(adjacency)\n",
    "A = np.zeros((1, num_node, num_node))\n",
    "A[0] = normalize_adjacency\n",
    "A"
   ]
  },
  {
   "cell_type": "code",
   "execution_count": 40,
   "metadata": {},
   "outputs": [
    {
     "name": "stdout",
     "output_type": "stream",
     "text": [
      "(2, 5, 3, 2)\n",
      "(2, 3, 2, 5)\n",
      "[[[[0.1 0.2 0.3 0.4 0.5]\n",
      "   [0.2 0.3 0.4 0.5 0.6]]\n",
      "\n",
      "  [[0.3 0.4 0.5 0.6 0.7]\n",
      "   [0.4 0.5 0.6 0.7 0.8]]\n",
      "\n",
      "  [[0.5 0.6 0.7 0.8 0.9]\n",
      "   [0.6 0.7 0.8 0.9 1. ]]]\n",
      "\n",
      "\n",
      " [[[0.2 0.3 0.4 0.5 0.6]\n",
      "   [0.3 0.4 0.5 0.6 0.7]]\n",
      "\n",
      "  [[0.4 0.5 0.6 0.7 0.8]\n",
      "   [0.5 0.6 0.7 0.8 0.9]]\n",
      "\n",
      "  [[0.6 0.7 0.8 0.9 1. ]\n",
      "   [0.7 0.8 0.9 1.  1.1]]]]\n"
     ]
    }
   ],
   "source": [
    "import numpy as np\n",
    "\n",
    "# Define example data\n",
    "batch_size = 2\n",
    "num_nodes = 3\n",
    "num_features = 2  # x and y positions\n",
    "num_timesteps = 5\n",
    "\n",
    "# Create example input data\n",
    "input_data = np.array([\n",
    "    # Sequence 1\n",
    "    [\n",
    "        # Time step 1\n",
    "        [\n",
    "            [0.1, 0.2],  # Head (x, y)\n",
    "            [0.3, 0.4],  # Left hand (x, y)\n",
    "            [0.5, 0.6]   # Right hand (x, y)\n",
    "        ],\n",
    "        # Time step 2\n",
    "        [\n",
    "            [0.2, 0.3],\n",
    "            [0.4, 0.5],\n",
    "            [0.6, 0.7]\n",
    "        ],\n",
    "        # Time step 3\n",
    "        [\n",
    "            [0.3, 0.4],\n",
    "            [0.5, 0.6],\n",
    "            [0.7, 0.8]\n",
    "        ],\n",
    "        # Time step 4\n",
    "        [\n",
    "            [0.4, 0.5],\n",
    "            [0.6, 0.7],\n",
    "            [0.8, 0.9]\n",
    "        ],\n",
    "        # Time step 5\n",
    "        [\n",
    "            [0.5, 0.6],\n",
    "            [0.7, 0.8],\n",
    "            [0.9, 1.0]\n",
    "        ],\n",
    "    ],\n",
    "    # Sequence 2\n",
    "    [\n",
    "        # Time step 1\n",
    "        [\n",
    "            [0.2, 0.3],\n",
    "            [0.4, 0.5],\n",
    "            [0.6, 0.7]\n",
    "        ],\n",
    "        # Time step 2\n",
    "        [\n",
    "            [0.3, 0.4],\n",
    "            [0.5, 0.6],\n",
    "            [0.7, 0.8]\n",
    "        ],\n",
    "        # Time step 3\n",
    "        [\n",
    "            [0.4, 0.5],\n",
    "            [0.6, 0.7],\n",
    "            [0.8, 0.9]\n",
    "        ],\n",
    "        # Time step 4\n",
    "        [\n",
    "            [0.5, 0.6],\n",
    "            [0.7, 0.8],\n",
    "            [0.9, 1.0]\n",
    "        ],\n",
    "        # Time step 5\n",
    "        [\n",
    "            [0.6, 0.7],\n",
    "            [0.8, 0.9],\n",
    "            [1.0, 1.1]\n",
    "        ],\n",
    "    ]\n",
    "])\n",
    "\n",
    "print(input_data.shape)\n",
    "# Reshape to match (batch_size, num_nodes, num_features, num_timesteps)\n",
    "input_data = input_data.transpose(0, 2, 3, 1)\n",
    "\n",
    "print(input_data.shape)  # (2, 3, 5, 2)\n",
    "print(input_data)\n"
   ]
  },
  {
   "cell_type": "code",
   "execution_count": 1,
   "metadata": {},
   "outputs": [],
   "source": [
    "import pandas as pd\n",
    "import numpy as np\n",
    "import torch\n",
    "from glob import glob\n"
   ]
  },
  {
   "cell_type": "code",
   "execution_count": 2,
   "metadata": {},
   "outputs": [
    {
     "data": {
      "text/plain": [
       "113"
      ]
     },
     "execution_count": 2,
     "metadata": {},
     "output_type": "execute_result"
    }
   ],
   "source": [
    "csv_dir_path = \"Data/csv-noise-1\"\n",
    "csv_files = glob(csv_dir_path+'/*.csv')\n",
    "csv_files.sort()\n",
    "len(csv_files)"
   ]
  },
  {
   "cell_type": "code",
   "execution_count": 3,
   "metadata": {},
   "outputs": [
    {
     "name": "stdout",
     "output_type": "stream",
     "text": [
      "3.6940022493245626 20.568360381572464\n"
     ]
    }
   ],
   "source": [
    "datacsv = pd.read_csv(csv_files[0]).values\n",
    "mean =  np.mean(datacsv)\n",
    "std_dev = np.std(datacsv)\n",
    "print(mean, std_dev)"
   ]
  },
  {
   "cell_type": "code",
   "execution_count": 4,
   "metadata": {},
   "outputs": [],
   "source": [
    "win_size_in = 25\n",
    "win_size_out = 10\n",
    "win_shift = 1\n",
    "win_size_total = win_size_in + win_size_out"
   ]
  },
  {
   "cell_type": "code",
   "execution_count": 26,
   "metadata": {},
   "outputs": [
    {
     "data": {
      "text/plain": [
       "tensor([[[ 2.0233e-04, -3.1873e-03, -7.6071e-02],\n",
       "         [-7.8527e-01,  1.3901e-02,  3.9760e+00],\n",
       "         [-2.5058e-04, -9.4234e-03,  1.2604e+00],\n",
       "         [-2.3557e+00,  3.9718e-03, -2.1618e+01],\n",
       "         [-4.5420e-05, -8.7396e-03, -5.0819e-01],\n",
       "         [ 1.5720e+00,  1.5750e-02, -2.3370e+00],\n",
       "         [ 7.8497e-01, -7.2307e-03, -1.0937e-02],\n",
       "         [ 3.4927e-02, -4.3984e-04, -9.4647e-04],\n",
       "         [ 3.4927e-02, -4.3984e-04, -9.4647e-04]],\n",
       "\n",
       "        [[ 1.8075e-04, -6.0197e-03, -5.3287e-03],\n",
       "         [-7.8472e-01,  2.9271e-02,  3.3494e+00],\n",
       "         [-6.1821e-04,  7.3245e-04,  8.3170e-01],\n",
       "         [-2.3553e+00,  2.6097e-02, -2.2308e+01],\n",
       "         [-9.4782e-05,  9.2247e-03, -6.0922e-01],\n",
       "         [ 1.5724e+00,  9.2008e-03, -2.1702e+00],\n",
       "         [ 7.8448e-01, -1.9972e-02,  7.9367e-03],\n",
       "         [ 3.4927e-02, -5.8003e-04, -1.0303e-03],\n",
       "         [ 3.4927e-02, -5.8003e-04, -1.0303e-03]],\n",
       "\n",
       "        [[ 1.7817e-04, -6.5480e-03,  2.5495e-01],\n",
       "         [-7.8383e-01,  2.1782e-02,  3.6409e+00],\n",
       "         [-1.2346e-03, -2.2022e-02,  8.4390e-01],\n",
       "         [-2.3547e+00,  7.4851e-03, -2.1652e+01],\n",
       "         [-1.9854e-04, -2.1006e-03, -5.6779e-01],\n",
       "         [ 1.5729e+00,  3.1597e-02, -2.3980e+00],\n",
       "         [ 7.8375e-01, -2.3283e-02, -9.3004e-03],\n",
       "         [ 3.4928e-02, -6.6041e-04, -1.0953e-03],\n",
       "         [ 3.4928e-02, -6.6041e-04, -1.0953e-03]]])"
      ]
     },
     "execution_count": 26,
     "metadata": {},
     "output_type": "execute_result"
    }
   ],
   "source": [
    "filedata = torch.tensor(pd.read_csv(csv_files[0]).values, dtype=torch.float)\n",
    "filedata[0:3, 3:-2].view(-1, 3, 9).permute(0, 2, 1)\n",
    "# newdata.view(-1, 3, 9).permute(0, 2, 1)\n",
    "new = filedata[0:3, 3:-2].view(-1, 3, 9).permute(0, 2, 1)\n",
    "new"
   ]
  },
  {
   "cell_type": "code",
   "execution_count": 27,
   "metadata": {},
   "outputs": [
    {
     "data": {
      "text/plain": [
       "tensor([[ 2.0233e-04, -3.1873e-03, -7.6071e-02, -7.8527e-01,  1.3901e-02,\n",
       "          3.9760e+00, -2.5058e-04, -9.4234e-03,  1.2604e+00, -2.3557e+00,\n",
       "          3.9718e-03, -2.1618e+01, -4.5420e-05, -8.7396e-03, -5.0819e-01,\n",
       "          1.5720e+00,  1.5750e-02, -2.3370e+00,  7.8497e-01, -7.2307e-03,\n",
       "         -1.0937e-02,  3.4927e-02, -4.3984e-04, -9.4647e-04,  3.4927e-02,\n",
       "         -4.3984e-04, -9.4647e-04],\n",
       "        [ 1.8075e-04, -6.0197e-03, -5.3287e-03, -7.8472e-01,  2.9271e-02,\n",
       "          3.3494e+00, -6.1821e-04,  7.3245e-04,  8.3170e-01, -2.3553e+00,\n",
       "          2.6097e-02, -2.2308e+01, -9.4782e-05,  9.2247e-03, -6.0922e-01,\n",
       "          1.5724e+00,  9.2008e-03, -2.1702e+00,  7.8448e-01, -1.9972e-02,\n",
       "          7.9367e-03,  3.4927e-02, -5.8003e-04, -1.0303e-03,  3.4927e-02,\n",
       "         -5.8003e-04, -1.0303e-03],\n",
       "        [ 1.7817e-04, -6.5480e-03,  2.5495e-01, -7.8383e-01,  2.1782e-02,\n",
       "          3.6409e+00, -1.2346e-03, -2.2022e-02,  8.4390e-01, -2.3547e+00,\n",
       "          7.4851e-03, -2.1652e+01, -1.9854e-04, -2.1006e-03, -5.6779e-01,\n",
       "          1.5729e+00,  3.1597e-02, -2.3980e+00,  7.8375e-01, -2.3283e-02,\n",
       "         -9.3004e-03,  3.4928e-02, -6.6041e-04, -1.0953e-03,  3.4928e-02,\n",
       "         -6.6041e-04, -1.0953e-03]])"
      ]
     },
     "execution_count": 27,
     "metadata": {},
     "output_type": "execute_result"
    }
   ],
   "source": [
    "new.reshape(3, -1)"
   ]
  },
  {
   "cell_type": "code",
   "execution_count": 97,
   "metadata": {},
   "outputs": [
    {
     "data": {
      "text/plain": [
       "tensor([[[ 2.0233e-04, -3.1873e-03, -7.6071e-02,  1.0000e+00,  0.0000e+00],\n",
       "         [-7.8527e-01,  1.3901e-02,  3.9760e+00,  1.0000e+00,  0.0000e+00],\n",
       "         [-2.5058e-04, -9.4234e-03,  1.2604e+00,  1.0000e+00,  0.0000e+00],\n",
       "         [-2.3557e+00,  3.9718e-03, -2.1618e+01,  1.0000e+00,  0.0000e+00],\n",
       "         [-4.5420e-05, -8.7396e-03, -5.0819e-01,  1.0000e+00,  0.0000e+00],\n",
       "         [ 1.5720e+00,  1.5750e-02, -2.3370e+00,  1.0000e+00,  0.0000e+00],\n",
       "         [ 7.8497e-01, -7.2307e-03, -1.0937e-02,  1.0000e+00,  0.0000e+00],\n",
       "         [ 3.4927e-02, -4.3984e-04, -9.4647e-04,  1.0000e+00,  0.0000e+00],\n",
       "         [ 3.4927e-02, -4.3984e-04, -9.4647e-04,  1.0000e+00,  0.0000e+00]],\n",
       "\n",
       "        [[ 1.8075e-04, -6.0197e-03, -5.3287e-03,  1.0000e+00,  0.0000e+00],\n",
       "         [-7.8472e-01,  2.9271e-02,  3.3494e+00,  1.0000e+00,  0.0000e+00],\n",
       "         [-6.1821e-04,  7.3245e-04,  8.3170e-01,  1.0000e+00,  0.0000e+00],\n",
       "         [-2.3553e+00,  2.6097e-02, -2.2308e+01,  1.0000e+00,  0.0000e+00],\n",
       "         [-9.4782e-05,  9.2247e-03, -6.0922e-01,  1.0000e+00,  0.0000e+00],\n",
       "         [ 1.5724e+00,  9.2008e-03, -2.1702e+00,  1.0000e+00,  0.0000e+00],\n",
       "         [ 7.8448e-01, -1.9972e-02,  7.9367e-03,  1.0000e+00,  0.0000e+00],\n",
       "         [ 3.4927e-02, -5.8003e-04, -1.0303e-03,  1.0000e+00,  0.0000e+00],\n",
       "         [ 3.4927e-02, -5.8003e-04, -1.0303e-03,  1.0000e+00,  0.0000e+00]],\n",
       "\n",
       "        [[ 1.7817e-04, -6.5480e-03,  2.5495e-01,  1.0000e+00,  0.0000e+00],\n",
       "         [-7.8383e-01,  2.1782e-02,  3.6409e+00,  1.0000e+00,  0.0000e+00],\n",
       "         [-1.2346e-03, -2.2022e-02,  8.4390e-01,  1.0000e+00,  0.0000e+00],\n",
       "         [-2.3547e+00,  7.4851e-03, -2.1652e+01,  1.0000e+00,  0.0000e+00],\n",
       "         [-1.9854e-04, -2.1006e-03, -5.6779e-01,  1.0000e+00,  0.0000e+00],\n",
       "         [ 1.5729e+00,  3.1597e-02, -2.3980e+00,  1.0000e+00,  0.0000e+00],\n",
       "         [ 7.8375e-01, -2.3283e-02, -9.3004e-03,  1.0000e+00,  0.0000e+00],\n",
       "         [ 3.4928e-02, -6.6041e-04, -1.0953e-03,  1.0000e+00,  0.0000e+00],\n",
       "         [ 3.4928e-02, -6.6041e-04, -1.0953e-03,  1.0000e+00,  0.0000e+00]]])"
      ]
     },
     "execution_count": 97,
     "metadata": {},
     "output_type": "execute_result"
    }
   ],
   "source": [
    "filedata = torch.tensor(pd.read_csv(csv_files[0]).values, dtype=torch.float)\n",
    "joint_feats = filedata[:3, 3:-2].view(-1, 3, 9).permute(0, 2, 1)\n",
    "otherfeats = filedata[:3, 1:3]\n",
    "# repeat only first column 3 times\n",
    "# filedata[:, 1:3].repeat(3, 1)\n",
    "otherfeats.repeat(9, 1).view(-1, 9, 2)\n",
    "\n",
    "# concatenate along last dimension\n",
    "node_feats = torch.cat((joint_feats, otherfeats.repeat(9, 1).view(-1, 9, 2)), dim=-1)\n",
    "node_feats"
   ]
  },
  {
   "cell_type": "code",
   "execution_count": 98,
   "metadata": {},
   "outputs": [],
   "source": [
    "# convert from (T, N, F) to (N, T*F)\n",
    "newnode = node_feats.permute(1, 0, 2)\n",
    "newnode = newnode.reshape(1, 9, -1).squeeze(0)"
   ]
  },
  {
   "cell_type": "code",
   "execution_count": 99,
   "metadata": {},
   "outputs": [],
   "source": [
    "# convert from (N, T*F) to (T, N, F)\n",
    "newnode = newnode.reshape(9, 3, -1).movedim(1, 0)"
   ]
  },
  {
   "cell_type": "code",
   "execution_count": 100,
   "metadata": {},
   "outputs": [
    {
     "data": {
      "text/plain": [
       "tensor([[ 2.0233e-04, -3.1873e-03, -7.6071e-02,  1.0000e+00,  0.0000e+00,\n",
       "         -7.8527e-01,  1.3901e-02,  3.9760e+00,  1.0000e+00,  0.0000e+00,\n",
       "         -2.5058e-04, -9.4234e-03,  1.2604e+00,  1.0000e+00,  0.0000e+00,\n",
       "         -2.3557e+00,  3.9718e-03, -2.1618e+01,  1.0000e+00,  0.0000e+00,\n",
       "         -4.5420e-05, -8.7396e-03, -5.0819e-01,  1.0000e+00,  0.0000e+00,\n",
       "          1.5720e+00,  1.5750e-02, -2.3370e+00,  1.0000e+00,  0.0000e+00,\n",
       "          7.8497e-01, -7.2307e-03, -1.0937e-02,  1.0000e+00,  0.0000e+00,\n",
       "          3.4927e-02, -4.3984e-04, -9.4647e-04,  1.0000e+00,  0.0000e+00,\n",
       "          3.4927e-02, -4.3984e-04, -9.4647e-04,  1.0000e+00,  0.0000e+00],\n",
       "        [ 1.8075e-04, -6.0197e-03, -5.3287e-03,  1.0000e+00,  0.0000e+00,\n",
       "         -7.8472e-01,  2.9271e-02,  3.3494e+00,  1.0000e+00,  0.0000e+00,\n",
       "         -6.1821e-04,  7.3245e-04,  8.3170e-01,  1.0000e+00,  0.0000e+00,\n",
       "         -2.3553e+00,  2.6097e-02, -2.2308e+01,  1.0000e+00,  0.0000e+00,\n",
       "         -9.4782e-05,  9.2247e-03, -6.0922e-01,  1.0000e+00,  0.0000e+00,\n",
       "          1.5724e+00,  9.2008e-03, -2.1702e+00,  1.0000e+00,  0.0000e+00,\n",
       "          7.8448e-01, -1.9972e-02,  7.9367e-03,  1.0000e+00,  0.0000e+00,\n",
       "          3.4927e-02, -5.8003e-04, -1.0303e-03,  1.0000e+00,  0.0000e+00,\n",
       "          3.4927e-02, -5.8003e-04, -1.0303e-03,  1.0000e+00,  0.0000e+00],\n",
       "        [ 1.7817e-04, -6.5480e-03,  2.5495e-01,  1.0000e+00,  0.0000e+00,\n",
       "         -7.8383e-01,  2.1782e-02,  3.6409e+00,  1.0000e+00,  0.0000e+00,\n",
       "         -1.2346e-03, -2.2022e-02,  8.4390e-01,  1.0000e+00,  0.0000e+00,\n",
       "         -2.3547e+00,  7.4851e-03, -2.1652e+01,  1.0000e+00,  0.0000e+00,\n",
       "         -1.9854e-04, -2.1006e-03, -5.6779e-01,  1.0000e+00,  0.0000e+00,\n",
       "          1.5729e+00,  3.1597e-02, -2.3980e+00,  1.0000e+00,  0.0000e+00,\n",
       "          7.8375e-01, -2.3283e-02, -9.3004e-03,  1.0000e+00,  0.0000e+00,\n",
       "          3.4928e-02, -6.6041e-04, -1.0953e-03,  1.0000e+00,  0.0000e+00,\n",
       "          3.4928e-02, -6.6041e-04, -1.0953e-03,  1.0000e+00,  0.0000e+00]])"
      ]
     },
     "execution_count": 100,
     "metadata": {},
     "output_type": "execute_result"
    }
   ],
   "source": [
    "# convert from (T, N, F) to (T, N*F)\n",
    "newnode.reshape(3, -1)"
   ]
  },
  {
   "cell_type": "code",
   "execution_count": 24,
   "metadata": {},
   "outputs": [
    {
     "name": "stdout",
     "output_type": "stream",
     "text": [
      "tensor([ 2.0233e-04, -7.8527e-01, -2.5058e-04, -2.3557e+00, -4.5420e-05,\n",
      "         1.5720e+00,  7.8497e-01,  3.4927e-02,  3.4927e-02, -3.1873e-03,\n",
      "         1.3901e-02, -9.4234e-03,  3.9718e-03, -8.7396e-03,  1.5750e-02,\n",
      "        -7.2307e-03, -4.3984e-04, -4.3984e-04, -7.6071e-02,  3.9760e+00,\n",
      "         1.2604e+00, -2.1618e+01, -5.0819e-01, -2.3370e+00, -1.0937e-02,\n",
      "        -9.4647e-04, -9.4647e-04])\n",
      "torch.Size([3, 9])\n"
     ]
    }
   ],
   "source": [
    "for i in range((filedata.shape[0]-win_size_total)//win_shift + 1):\n",
    "    joint_feats = filedata[i * win_shift : i * win_shift + win_size_in, 3:-2]  # T x N*F\n",
    "    print(joint_feats[0])\n",
    "    # convert to T x N x F\n",
    "    joint_feats = joint_feats.view(win_size_in, -1, 3)\n",
    "    # transpose only the last two dimensions\n",
    "    joint_feats = joint_feats.transpose(1, 2)\n",
    "    print(joint_feats[0])\n",
    "    break"
   ]
  },
  {
   "cell_type": "code",
   "execution_count": 89,
   "metadata": {},
   "outputs": [],
   "source": [
    "data = pd.read_csv('PeMSD7_V_228.csv', header=None).values\n"
   ]
  },
  {
   "cell_type": "code",
   "execution_count": 90,
   "metadata": {},
   "outputs": [
    {
     "name": "stdout",
     "output_type": "stream",
     "text": [
      "58.889183986244056 13.483268659131536\n"
     ]
    },
    {
     "data": {
      "text/plain": [
       "(12672, 228)"
      ]
     },
     "execution_count": 90,
     "metadata": {},
     "output_type": "execute_result"
    }
   ],
   "source": [
    "mean =  np.mean(data)\n",
    "std_dev = np.std(data)\n",
    "print(mean, std_dev)\n",
    "data.shape"
   ]
  },
  {
   "cell_type": "code",
   "execution_count": 91,
   "metadata": {},
   "outputs": [],
   "source": [
    "def z_score(x, mean, std):\n",
    "    \"\"\"\n",
    "    Z-score normalization function: $z = (X - \\mu) / \\sigma $,\n",
    "    where z is the z-score, X is the value of the element,\n",
    "    $\\mu$ is the population mean, and $\\sigma$ is the standard deviation.\n",
    "    :param x: torch array, input array to be normalized.\n",
    "    :param mean: float, the value of mean.\n",
    "    :param std: float, the value of standard deviation.\n",
    "    :return: torch array, z-score normalized array.\n",
    "    \"\"\"\n",
    "    return (x - mean) / std\n",
    "\n",
    "\n",
    "data = z_score(data, np.mean(data), np.std(data))"
   ]
  },
  {
   "cell_type": "code",
   "execution_count": 92,
   "metadata": {},
   "outputs": [
    {
     "name": "stdout",
     "output_type": "stream",
     "text": [
      "(228, 21)\n"
     ]
    }
   ],
   "source": [
    "n_window = 21 # 9 pred + 12 hist\n",
    "\n",
    "for i in range(44):\n",
    "    for j in range(288 - n_window + 1):\n",
    "        sta = i * 288 + j\n",
    "        end = sta + n_window\n",
    "        new_data = data[sta:end, :]\n",
    "        full_window = np.swapaxes(data[sta:end, :], 0, 1)\n",
    "        print(full_window.shape)\n",
    "        break\n",
    "    break\n",
    "        # print(sta, end)"
   ]
  },
  {
   "cell_type": "code",
   "execution_count": 43,
   "metadata": {},
   "outputs": [],
   "source": [
    "import torch.nn as nn\n",
    "\n",
    "criteria = nn.CrossEntropyLoss()"
   ]
  },
  {
   "cell_type": "code",
   "execution_count": 45,
   "metadata": {},
   "outputs": [
    {
     "data": {
      "text/plain": [
       "(tensor([[-0.2994,  0.0541,  1.4420,  0.6157, -0.4392,  0.0760],\n",
       "         [ 1.6664, -1.2427, -0.1720,  0.4059,  1.1733,  0.6617],\n",
       "         [ 0.4278, -2.1952,  0.0398, -2.2313, -1.0450, -1.4654],\n",
       "         [ 0.9222,  1.4038,  0.4078, -0.4102, -0.3342,  0.1266],\n",
       "         [ 0.4134,  1.2754,  0.7304, -0.1464,  0.6290, -0.4897]]),\n",
       " tensor([0, 0, 0, 0, 0]))"
      ]
     },
     "execution_count": 45,
     "metadata": {},
     "output_type": "execute_result"
    }
   ],
   "source": [
    "# randome interger between 0 and 6 of size 5\n",
    "input = torch.randn(5, 6)\n",
    "target = torch.empty(5, dtype=torch.long).random_(1)\n",
    "input, target"
   ]
  },
  {
   "cell_type": "code",
   "execution_count": 84,
   "metadata": {},
   "outputs": [
    {
     "data": {
      "text/plain": [
       "tensor([1])"
      ]
     },
     "execution_count": 84,
     "metadata": {},
     "output_type": "execute_result"
    }
   ],
   "source": [
    "target = torch.tensor([1])"
   ]
  },
  {
   "cell_type": "code",
   "execution_count": 100,
   "metadata": {},
   "outputs": [
    {
     "data": {
      "text/plain": [
       "tensor([0, 3, 3])"
      ]
     },
     "execution_count": 100,
     "metadata": {},
     "output_type": "execute_result"
    }
   ],
   "source": [
    "target = torch.randint(5, (3,), dtype=torch.int64)\n",
    "target"
   ]
  },
  {
   "cell_type": "code",
   "execution_count": 46,
   "metadata": {},
   "outputs": [
    {
     "data": {
      "text/plain": [
       "tensor(1.5270)"
      ]
     },
     "execution_count": 46,
     "metadata": {},
     "output_type": "execute_result"
    }
   ],
   "source": [
    "criteria(input, target)"
   ]
  },
  {
   "cell_type": "code",
   "execution_count": 82,
   "metadata": {},
   "outputs": [
    {
     "data": {
      "text/plain": [
       "(tensor([[ 1.1016, -0.6628, -0.1334],\n",
       "         [ 0.3342,  1.4320,  1.5624]]),\n",
       " tensor([[-0.3799, -2.1443, -1.6149],\n",
       "         [-2.0032, -0.9054, -0.7750]]))"
      ]
     },
     "execution_count": 82,
     "metadata": {},
     "output_type": "execute_result"
    }
   ],
   "source": [
    "m = nn.LogSoftmax(dim=1)\n",
    "input = torch.randn(2, 3)\n",
    "output = m(input)\n",
    "input, output"
   ]
  },
  {
   "cell_type": "code",
   "execution_count": 105,
   "metadata": {},
   "outputs": [
    {
     "data": {
      "text/plain": [
       "torch.Size([5, 3, 20])"
      ]
     },
     "execution_count": 105,
     "metadata": {},
     "output_type": "execute_result"
    }
   ],
   "source": [
    "rnn = nn.LSTM(10, 20, 2)\n",
    "input = torch.randn(5, 3, 10)\n",
    "h0 = torch.randn(2, 3, 20)\n",
    "c0 = torch.randn(2, 3, 20)\n",
    "output, (hn, cn) = rnn(input, (h0, c0))\n",
    "output.shape"
   ]
  },
  {
   "cell_type": "code",
   "execution_count": 10,
   "metadata": {},
   "outputs": [],
   "source": [
    "import torch\n",
    "import torch.nn as nn\n",
    "import torch_geometric.nn as gnn\n",
    "import torch.nn.functional as F"
   ]
  },
  {
   "cell_type": "code",
   "execution_count": 11,
   "metadata": {},
   "outputs": [],
   "source": [
    "adj_matrix = torch.tensor([\n",
    "    [0, 1, 0, 0, 0, 0, 0, 0, 0],\n",
    "    [1, 0, 1, 0, 0, 0, 0, 0, 0],\n",
    "    [0, 1, 0, 1, 0, 0, 0, 0, 0],\n",
    "    [0, 0, 1, 0, 1, 0, 0, 0, 0],\n",
    "    [0, 0, 0, 1, 0, 1, 0, 0, 0],\n",
    "    [0, 0, 0, 0, 1, 0, 1, 0, 0],\n",
    "    [0, 0, 0, 0, 0, 1, 0, 1, 1],\n",
    "    [0, 0, 0, 0, 0, 0, 1, 0, 0],\n",
    "    [0, 0, 0, 0, 0, 0, 1, 0, 0],\n",
    "], dtype=torch.long)\n"
   ]
  },
  {
   "cell_type": "code",
   "execution_count": 68,
   "metadata": {},
   "outputs": [
    {
     "name": "stdout",
     "output_type": "stream",
     "text": [
      "torch.Size([2, 16])\n"
     ]
    }
   ],
   "source": [
    "# batch, time, nodes, features\n",
    "batch, time, nodes, features = 2, 10, 9, 5\n",
    "outwin, outclasses = 8, 7\n",
    "input = torch.randn(batch, time, nodes, features)\n",
    "# create edge_index tensor of size 2 x num_edges\n",
    "edge_index = adj_matrix.nonzero().t()\n",
    "print(edge_index.shape)\n",
    "\n",
    "conv1 = gnn.GCNConv(features, features)\n",
    "# gatconv = gnn.GATConv(5, 5, 2, concat=False)\n",
    "# chebconv = gnn.ChebConv(5, 5, 3)\n",
    "lstmlayer = nn.LSTM(nodes*features, 16, batch_first=True)\n",
    "lin1 = nn.Linear(16, outclasses)"
   ]
  },
  {
   "cell_type": "code",
   "execution_count": 69,
   "metadata": {},
   "outputs": [
    {
     "data": {
      "text/plain": [
       "torch.Size([180, 5])"
      ]
     },
     "execution_count": 69,
     "metadata": {},
     "output_type": "execute_result"
    }
   ],
   "source": [
    "# input.dim()\n",
    "input = input.view(-1, features)\n",
    "x = conv1(input, edge_index)  # B*T*N, F\n",
    "x.shape"
   ]
  },
  {
   "cell_type": "code",
   "execution_count": 70,
   "metadata": {},
   "outputs": [
    {
     "data": {
      "text/plain": [
       "torch.Size([2, 10, 16])"
      ]
     },
     "execution_count": 70,
     "metadata": {},
     "output_type": "execute_result"
    }
   ],
   "source": [
    "x = x.view(batch, time, -1)\n",
    "x, _ = lstmlayer(x)\n",
    "x.shape"
   ]
  },
  {
   "cell_type": "code",
   "execution_count": 71,
   "metadata": {},
   "outputs": [
    {
     "data": {
      "text/plain": [
       "torch.Size([2, 8, 16])"
      ]
     },
     "execution_count": 71,
     "metadata": {},
     "output_type": "execute_result"
    }
   ],
   "source": [
    "x = x[:, -outwin:, :]\n",
    "x.shape"
   ]
  },
  {
   "cell_type": "code",
   "execution_count": 72,
   "metadata": {},
   "outputs": [
    {
     "data": {
      "text/plain": [
       "torch.Size([2, 8, 7])"
      ]
     },
     "execution_count": 72,
     "metadata": {},
     "output_type": "execute_result"
    }
   ],
   "source": [
    "x = lin1(x)\n",
    "x.shape"
   ]
  },
  {
   "cell_type": "code",
   "execution_count": 73,
   "metadata": {},
   "outputs": [
    {
     "data": {
      "text/plain": [
       "torch.Size([2, 8, 7])"
      ]
     },
     "execution_count": 73,
     "metadata": {},
     "output_type": "execute_result"
    }
   ],
   "source": [
    "x = F.softmax(x, dim=-1)\n",
    "x.shape"
   ]
  },
  {
   "cell_type": "code",
   "execution_count": 74,
   "metadata": {},
   "outputs": [
    {
     "data": {
      "text/plain": [
       "torch.Size([16, 7])"
      ]
     },
     "execution_count": 74,
     "metadata": {},
     "output_type": "execute_result"
    }
   ],
   "source": [
    "x = x.view(-1, outclasses)\n",
    "x.shape"
   ]
  },
  {
   "cell_type": "code",
   "execution_count": 75,
   "metadata": {},
   "outputs": [
    {
     "data": {
      "text/plain": [
       "torch.Size([16])"
      ]
     },
     "execution_count": 75,
     "metadata": {},
     "output_type": "execute_result"
    }
   ],
   "source": [
    "# create y of size batch x time with random integers between 0 and 6\n",
    "y = torch.randint(0, 7, (batch, outwin))\n",
    "y = y.view(-1)\n",
    "y.shape"
   ]
  },
  {
   "cell_type": "code",
   "execution_count": 76,
   "metadata": {},
   "outputs": [
    {
     "data": {
      "text/plain": [
       "tensor(1.9412, grad_fn=<NllLossBackward0>)"
      ]
     },
     "execution_count": 76,
     "metadata": {},
     "output_type": "execute_result"
    }
   ],
   "source": [
    "criteria = nn.CrossEntropyLoss()\n",
    "criteria(x, y)"
   ]
  },
  {
   "cell_type": "code",
   "execution_count": 148,
   "metadata": {},
   "outputs": [
    {
     "data": {
      "text/plain": [
       "tensor([[[[-1.6138e+00,  6.3239e-01, -2.2832e+00,  1.5254e+00,  6.1059e-01],\n",
       "          [ 1.0362e+00,  1.2422e+00, -3.9532e-01, -5.8745e-01,  1.4121e+00],\n",
       "          [-8.9898e-01, -3.8150e-01,  1.6909e+00,  7.6081e-01,  4.5921e-02],\n",
       "          [ 2.4033e-01,  2.1148e-01, -9.5684e-02,  6.2390e-01,  4.0387e-01],\n",
       "          [ 4.5510e-01, -1.3155e+00, -4.1844e-01,  1.1429e+00,  3.6841e-01],\n",
       "          [ 2.1626e+00,  2.9099e-02,  2.0649e-02, -1.4189e+00,  1.4562e+00],\n",
       "          [ 3.2000e-01,  1.6950e+00, -9.2032e-01,  1.4454e-01, -1.0241e+00],\n",
       "          [ 6.3031e-01,  4.0703e-01,  4.0836e-01, -6.1746e-01,  2.1072e+00],\n",
       "          [-3.4915e-01, -7.9907e-01,  1.9772e+00, -2.0166e-01,  1.5471e+00]],\n",
       "\n",
       "         [[ 1.4314e-01,  1.3646e+00,  1.8309e-01, -9.2163e-01,  1.0790e-01],\n",
       "          [-3.1746e-01,  1.8292e+00,  1.2066e+00,  4.7163e-01,  7.2576e-01],\n",
       "          [-1.0275e-01, -3.2090e-01,  9.7740e-01,  6.8282e-01,  1.4440e+00],\n",
       "          [-9.2377e-01,  1.0290e+00, -3.9652e-01, -5.6842e-01,  1.0524e+00],\n",
       "          [-1.0799e+00,  1.6387e+00, -1.1449e+00,  9.3314e-01,  7.0569e-01],\n",
       "          [ 1.0742e-01,  6.2014e-01,  1.1871e+00, -5.0473e-01, -1.1449e-01],\n",
       "          [ 8.8735e-01,  8.7100e-01,  2.5100e+00, -8.0030e-01, -7.6004e-01],\n",
       "          [-7.7044e-01,  1.5640e+00, -3.4836e-03,  4.1348e-01, -9.7686e-01],\n",
       "          [ 1.0051e+00, -2.9657e-01,  3.1832e-01, -1.9208e-01, -1.4318e+00]],\n",
       "\n",
       "         [[ 1.5051e+00,  1.2450e+00, -1.8485e+00,  7.2496e-01, -1.9769e-01],\n",
       "          [ 1.2988e+00,  7.8171e-01, -2.6128e-01,  1.8113e-01,  7.0431e-01],\n",
       "          [-3.6435e-01, -1.5255e+00, -9.4870e-01,  1.0082e+00, -3.3255e-01],\n",
       "          [ 7.4187e-01,  4.4405e-01, -7.2905e-01,  1.1172e+00, -1.1970e-01],\n",
       "          [ 8.5562e-02, -7.2725e-01, -3.3980e+00, -1.5216e-01, -8.2247e-01],\n",
       "          [ 1.2497e+00, -7.1624e-01, -3.0361e-01, -2.8710e-01,  2.1374e-01],\n",
       "          [ 8.0062e-01, -3.1576e-01,  7.5785e-01, -5.0623e-01,  6.5731e-01],\n",
       "          [-1.2306e+00, -3.7861e-02, -5.3425e-01,  2.7556e+00,  7.7568e-01],\n",
       "          [-1.5045e+00, -4.8527e-01, -2.0153e+00, -6.5113e-02, -7.7552e-01]],\n",
       "\n",
       "         [[ 3.4751e-01, -6.5933e-01,  1.6230e+00, -1.3768e+00,  1.5324e+00],\n",
       "          [-9.8382e-01, -3.5961e-01, -1.2078e+00,  1.0483e+00, -8.9756e-02],\n",
       "          [ 2.2641e+00, -7.9444e-01,  1.5547e-01,  1.2395e+00,  5.5045e-01],\n",
       "          [-2.1224e+00,  1.0992e+00, -6.1330e-02, -1.4031e+00, -8.7522e-01],\n",
       "          [-7.6287e-01,  1.6794e-01,  5.9941e-01,  5.5764e-01,  8.9339e-01],\n",
       "          [ 7.2895e-01, -1.9056e+00,  9.3627e-01, -6.6755e-01, -7.1604e-01],\n",
       "          [-9.7370e-01, -1.2227e+00, -1.0471e+00, -1.0488e+00, -4.7504e-01],\n",
       "          [ 5.9528e-01, -1.3974e+00,  4.5334e-01, -1.5193e-01,  1.2041e+00],\n",
       "          [ 1.1992e+00, -1.5394e+00,  1.2937e+00,  5.8312e-01, -1.3995e+00]],\n",
       "\n",
       "         [[-4.9133e-01,  1.3176e+00, -1.4419e+00,  1.0269e+00, -1.0487e+00],\n",
       "          [-4.3289e-01, -2.0355e-01, -1.1762e+00,  9.9316e-01,  1.6522e-01],\n",
       "          [-6.6011e-01,  2.1236e+00,  9.8261e-01,  1.1721e+00,  1.0479e-01],\n",
       "          [-5.2262e-02, -1.2644e-01,  1.1629e+00, -5.9018e-01, -4.9305e-01],\n",
       "          [ 4.4332e-01, -1.4564e-02, -1.5731e-01,  1.3459e+00, -1.4112e-01],\n",
       "          [ 9.6962e-01,  1.6306e-02, -9.9216e-01, -1.2278e+00, -5.6039e-01],\n",
       "          [-9.6282e-01,  5.2388e-02, -5.1959e-01,  4.3696e-01,  9.0356e-01],\n",
       "          [ 9.4385e-02,  9.7719e-02, -1.1208e+00,  1.5680e+00,  2.4537e-02],\n",
       "          [-1.5003e+00,  7.5792e-01, -1.9562e+00,  6.9738e-02,  4.6338e-01]]],\n",
       "\n",
       "\n",
       "        [[[-1.1914e+00, -3.2917e-01, -4.5344e-01,  4.9974e-01, -5.9338e-01],\n",
       "          [-1.3875e+00, -1.3289e+00,  1.7874e+00, -3.3230e+00,  1.1437e+00],\n",
       "          [ 1.1063e+00, -1.2995e+00, -3.0239e-01,  1.3377e+00,  1.7020e+00],\n",
       "          [ 1.4567e+00, -2.6215e-02, -6.2257e-01, -1.1015e+00,  9.2171e-01],\n",
       "          [-3.5544e-02, -5.1107e-01,  4.6201e-01,  2.2959e+00, -1.5321e+00],\n",
       "          [-6.0942e-01,  7.6402e-01, -1.9047e-01,  4.0133e-01,  7.9352e-01],\n",
       "          [ 4.9249e-01,  1.0150e-01,  1.1835e+00, -2.1983e+00,  7.6787e-01],\n",
       "          [ 7.6131e-01, -1.2094e+00, -3.1873e-01,  6.2707e-01, -6.7786e-01],\n",
       "          [ 2.8694e+00, -8.1202e-01, -2.7288e-01,  1.1138e-02, -3.0089e-01]],\n",
       "\n",
       "         [[ 1.0406e+00, -1.6094e-01,  2.3761e+00,  2.4720e+00,  9.3581e-01],\n",
       "          [ 2.9774e+00, -1.3833e-01, -1.6512e+00, -8.1090e-01,  1.2183e+00],\n",
       "          [-8.8668e-01,  2.4384e+00, -1.0996e-01, -4.1516e-01,  1.2459e+00],\n",
       "          [ 2.9606e-01,  5.3186e-01, -3.9639e-01, -7.2034e-01, -1.0636e+00],\n",
       "          [ 8.9434e-01,  1.7133e-01, -1.8233e-02,  8.2975e-01,  5.8399e-01],\n",
       "          [-1.4407e+00,  9.7889e-01,  1.1877e-01,  5.9999e-02, -1.4779e+00],\n",
       "          [ 6.6264e-01, -1.7000e+00,  1.2196e+00, -3.8899e-02,  1.7510e+00],\n",
       "          [-9.1594e-01, -1.2488e+00, -5.7338e-01, -2.9521e-01, -6.7031e-02],\n",
       "          [ 7.3483e-01, -9.0741e-01,  1.2992e+00, -3.2147e-01, -2.3713e-01]],\n",
       "\n",
       "         [[ 1.3505e-01, -6.2019e-01, -1.3031e+00, -2.3860e+00, -1.4654e+00],\n",
       "          [ 4.8798e-01,  2.2333e+00, -6.5355e-01, -8.6570e-01, -1.5011e+00],\n",
       "          [ 3.2055e-02,  3.9125e-01,  1.6579e+00,  8.5119e-01, -6.1561e-01],\n",
       "          [-4.3461e-01, -1.0453e+00,  4.2023e-01, -1.4500e+00,  1.1022e+00],\n",
       "          [-6.8923e-02, -9.7946e-01, -1.1602e+00,  5.7012e-01,  9.3025e-01],\n",
       "          [-3.6750e-01,  8.4403e-01, -6.0626e-01, -6.6063e-01, -3.0809e-01],\n",
       "          [ 8.4716e-03,  1.4746e+00, -4.4201e-01, -7.4489e-01,  5.5303e-01],\n",
       "          [ 7.8427e-01,  1.3140e+00, -8.2769e-01, -9.8486e-02, -1.8088e+00],\n",
       "          [-1.4140e+00,  1.0683e+00, -2.1496e-01, -1.0619e+00, -1.5034e+00]],\n",
       "\n",
       "         [[ 4.2155e-01, -1.4354e+00, -1.4936e-02,  9.1733e-01, -1.4063e+00],\n",
       "          [-1.7906e-01,  6.1014e-02,  2.1412e+00,  3.3392e-02,  1.8983e+00],\n",
       "          [-8.8250e-01, -8.4933e-01, -2.8863e-01,  2.4069e-01, -8.3426e-01],\n",
       "          [-3.4452e-02,  7.4327e-01,  8.7096e-01, -1.4485e+00,  2.5333e-01],\n",
       "          [ 8.3334e-01,  3.8053e-02, -6.9588e-01, -6.9664e-02,  2.0390e+00],\n",
       "          [ 5.3067e-01, -1.5171e+00,  8.6450e-01, -5.1361e-01,  8.2928e-01],\n",
       "          [ 1.3893e-01, -6.5568e-01, -2.4626e-02, -1.1799e+00, -3.1120e-01],\n",
       "          [-4.2459e-01,  6.1266e-01,  1.6452e+00,  1.4130e+00, -2.9138e+00],\n",
       "          [-6.1318e-02,  2.2459e+00,  5.2970e-01, -9.4453e-01, -4.9273e-01]],\n",
       "\n",
       "         [[ 2.1063e+00,  1.7212e-02, -3.4209e-01,  1.0101e-03,  2.9493e+00],\n",
       "          [-1.5780e+00, -1.6166e+00, -2.2496e+00, -7.3520e-02,  5.4025e-01],\n",
       "          [ 2.0821e-01,  7.8227e-02, -1.6582e-01, -1.0299e+00, -1.0514e+00],\n",
       "          [-8.3913e-03, -1.3667e+00,  1.5613e+00,  1.6734e+00,  1.5335e+00],\n",
       "          [-4.4426e-01,  6.6555e-01,  7.7299e-01, -1.5253e+00, -1.0530e-01],\n",
       "          [-6.3924e-01,  1.2658e+00, -4.5827e-01,  7.9388e-01, -1.5483e-01],\n",
       "          [ 1.1982e+00,  8.2197e-01,  2.2738e-02, -1.4377e+00,  1.0282e+00],\n",
       "          [ 3.3674e-02,  5.1506e-01, -2.0294e+00,  2.1721e-01,  1.3210e-01],\n",
       "          [-1.1785e+00, -7.8547e-02,  8.1396e-01,  1.3429e-01, -1.1198e-01]]]])"
      ]
     },
     "execution_count": 148,
     "metadata": {},
     "output_type": "execute_result"
    }
   ],
   "source": [
    "input = torch.randn(2, 5, 9, 5)\n",
    "input"
   ]
  },
  {
   "cell_type": "code",
   "execution_count": 150,
   "metadata": {},
   "outputs": [
    {
     "data": {
      "text/plain": [
       "tensor([[-1.6138e+00,  6.3239e-01, -2.2832e+00,  1.5254e+00,  6.1059e-01],\n",
       "        [ 1.0362e+00,  1.2422e+00, -3.9532e-01, -5.8745e-01,  1.4121e+00],\n",
       "        [-8.9898e-01, -3.8150e-01,  1.6909e+00,  7.6081e-01,  4.5921e-02],\n",
       "        [ 2.4033e-01,  2.1148e-01, -9.5684e-02,  6.2390e-01,  4.0387e-01],\n",
       "        [ 4.5510e-01, -1.3155e+00, -4.1844e-01,  1.1429e+00,  3.6841e-01],\n",
       "        [ 2.1626e+00,  2.9099e-02,  2.0649e-02, -1.4189e+00,  1.4562e+00],\n",
       "        [ 3.2000e-01,  1.6950e+00, -9.2032e-01,  1.4454e-01, -1.0241e+00],\n",
       "        [ 6.3031e-01,  4.0703e-01,  4.0836e-01, -6.1746e-01,  2.1072e+00],\n",
       "        [-3.4915e-01, -7.9907e-01,  1.9772e+00, -2.0166e-01,  1.5471e+00],\n",
       "        [ 1.4314e-01,  1.3646e+00,  1.8309e-01, -9.2163e-01,  1.0790e-01],\n",
       "        [-3.1746e-01,  1.8292e+00,  1.2066e+00,  4.7163e-01,  7.2576e-01],\n",
       "        [-1.0275e-01, -3.2090e-01,  9.7740e-01,  6.8282e-01,  1.4440e+00],\n",
       "        [-9.2377e-01,  1.0290e+00, -3.9652e-01, -5.6842e-01,  1.0524e+00],\n",
       "        [-1.0799e+00,  1.6387e+00, -1.1449e+00,  9.3314e-01,  7.0569e-01],\n",
       "        [ 1.0742e-01,  6.2014e-01,  1.1871e+00, -5.0473e-01, -1.1449e-01],\n",
       "        [ 8.8735e-01,  8.7100e-01,  2.5100e+00, -8.0030e-01, -7.6004e-01],\n",
       "        [-7.7044e-01,  1.5640e+00, -3.4836e-03,  4.1348e-01, -9.7686e-01],\n",
       "        [ 1.0051e+00, -2.9657e-01,  3.1832e-01, -1.9208e-01, -1.4318e+00],\n",
       "        [ 1.5051e+00,  1.2450e+00, -1.8485e+00,  7.2496e-01, -1.9769e-01],\n",
       "        [ 1.2988e+00,  7.8171e-01, -2.6128e-01,  1.8113e-01,  7.0431e-01],\n",
       "        [-3.6435e-01, -1.5255e+00, -9.4870e-01,  1.0082e+00, -3.3255e-01],\n",
       "        [ 7.4187e-01,  4.4405e-01, -7.2905e-01,  1.1172e+00, -1.1970e-01],\n",
       "        [ 8.5562e-02, -7.2725e-01, -3.3980e+00, -1.5216e-01, -8.2247e-01],\n",
       "        [ 1.2497e+00, -7.1624e-01, -3.0361e-01, -2.8710e-01,  2.1374e-01],\n",
       "        [ 8.0062e-01, -3.1576e-01,  7.5785e-01, -5.0623e-01,  6.5731e-01],\n",
       "        [-1.2306e+00, -3.7861e-02, -5.3425e-01,  2.7556e+00,  7.7568e-01],\n",
       "        [-1.5045e+00, -4.8527e-01, -2.0153e+00, -6.5113e-02, -7.7552e-01],\n",
       "        [ 3.4751e-01, -6.5933e-01,  1.6230e+00, -1.3768e+00,  1.5324e+00],\n",
       "        [-9.8382e-01, -3.5961e-01, -1.2078e+00,  1.0483e+00, -8.9756e-02],\n",
       "        [ 2.2641e+00, -7.9444e-01,  1.5547e-01,  1.2395e+00,  5.5045e-01],\n",
       "        [-2.1224e+00,  1.0992e+00, -6.1330e-02, -1.4031e+00, -8.7522e-01],\n",
       "        [-7.6287e-01,  1.6794e-01,  5.9941e-01,  5.5764e-01,  8.9339e-01],\n",
       "        [ 7.2895e-01, -1.9056e+00,  9.3627e-01, -6.6755e-01, -7.1604e-01],\n",
       "        [-9.7370e-01, -1.2227e+00, -1.0471e+00, -1.0488e+00, -4.7504e-01],\n",
       "        [ 5.9528e-01, -1.3974e+00,  4.5334e-01, -1.5193e-01,  1.2041e+00],\n",
       "        [ 1.1992e+00, -1.5394e+00,  1.2937e+00,  5.8312e-01, -1.3995e+00],\n",
       "        [-4.9133e-01,  1.3176e+00, -1.4419e+00,  1.0269e+00, -1.0487e+00],\n",
       "        [-4.3289e-01, -2.0355e-01, -1.1762e+00,  9.9316e-01,  1.6522e-01],\n",
       "        [-6.6011e-01,  2.1236e+00,  9.8261e-01,  1.1721e+00,  1.0479e-01],\n",
       "        [-5.2262e-02, -1.2644e-01,  1.1629e+00, -5.9018e-01, -4.9305e-01],\n",
       "        [ 4.4332e-01, -1.4564e-02, -1.5731e-01,  1.3459e+00, -1.4112e-01],\n",
       "        [ 9.6962e-01,  1.6306e-02, -9.9216e-01, -1.2278e+00, -5.6039e-01],\n",
       "        [-9.6282e-01,  5.2388e-02, -5.1959e-01,  4.3696e-01,  9.0356e-01],\n",
       "        [ 9.4385e-02,  9.7719e-02, -1.1208e+00,  1.5680e+00,  2.4537e-02],\n",
       "        [-1.5003e+00,  7.5792e-01, -1.9562e+00,  6.9738e-02,  4.6338e-01],\n",
       "        [-1.1914e+00, -3.2917e-01, -4.5344e-01,  4.9974e-01, -5.9338e-01],\n",
       "        [-1.3875e+00, -1.3289e+00,  1.7874e+00, -3.3230e+00,  1.1437e+00],\n",
       "        [ 1.1063e+00, -1.2995e+00, -3.0239e-01,  1.3377e+00,  1.7020e+00],\n",
       "        [ 1.4567e+00, -2.6215e-02, -6.2257e-01, -1.1015e+00,  9.2171e-01],\n",
       "        [-3.5544e-02, -5.1107e-01,  4.6201e-01,  2.2959e+00, -1.5321e+00],\n",
       "        [-6.0942e-01,  7.6402e-01, -1.9047e-01,  4.0133e-01,  7.9352e-01],\n",
       "        [ 4.9249e-01,  1.0150e-01,  1.1835e+00, -2.1983e+00,  7.6787e-01],\n",
       "        [ 7.6131e-01, -1.2094e+00, -3.1873e-01,  6.2707e-01, -6.7786e-01],\n",
       "        [ 2.8694e+00, -8.1202e-01, -2.7288e-01,  1.1138e-02, -3.0089e-01],\n",
       "        [ 1.0406e+00, -1.6094e-01,  2.3761e+00,  2.4720e+00,  9.3581e-01],\n",
       "        [ 2.9774e+00, -1.3833e-01, -1.6512e+00, -8.1090e-01,  1.2183e+00],\n",
       "        [-8.8668e-01,  2.4384e+00, -1.0996e-01, -4.1516e-01,  1.2459e+00],\n",
       "        [ 2.9606e-01,  5.3186e-01, -3.9639e-01, -7.2034e-01, -1.0636e+00],\n",
       "        [ 8.9434e-01,  1.7133e-01, -1.8233e-02,  8.2975e-01,  5.8399e-01],\n",
       "        [-1.4407e+00,  9.7889e-01,  1.1877e-01,  5.9999e-02, -1.4779e+00],\n",
       "        [ 6.6264e-01, -1.7000e+00,  1.2196e+00, -3.8899e-02,  1.7510e+00],\n",
       "        [-9.1594e-01, -1.2488e+00, -5.7338e-01, -2.9521e-01, -6.7031e-02],\n",
       "        [ 7.3483e-01, -9.0741e-01,  1.2992e+00, -3.2147e-01, -2.3713e-01],\n",
       "        [ 1.3505e-01, -6.2019e-01, -1.3031e+00, -2.3860e+00, -1.4654e+00],\n",
       "        [ 4.8798e-01,  2.2333e+00, -6.5355e-01, -8.6570e-01, -1.5011e+00],\n",
       "        [ 3.2055e-02,  3.9125e-01,  1.6579e+00,  8.5119e-01, -6.1561e-01],\n",
       "        [-4.3461e-01, -1.0453e+00,  4.2023e-01, -1.4500e+00,  1.1022e+00],\n",
       "        [-6.8923e-02, -9.7946e-01, -1.1602e+00,  5.7012e-01,  9.3025e-01],\n",
       "        [-3.6750e-01,  8.4403e-01, -6.0626e-01, -6.6063e-01, -3.0809e-01],\n",
       "        [ 8.4716e-03,  1.4746e+00, -4.4201e-01, -7.4489e-01,  5.5303e-01],\n",
       "        [ 7.8427e-01,  1.3140e+00, -8.2769e-01, -9.8486e-02, -1.8088e+00],\n",
       "        [-1.4140e+00,  1.0683e+00, -2.1496e-01, -1.0619e+00, -1.5034e+00],\n",
       "        [ 4.2155e-01, -1.4354e+00, -1.4936e-02,  9.1733e-01, -1.4063e+00],\n",
       "        [-1.7906e-01,  6.1014e-02,  2.1412e+00,  3.3392e-02,  1.8983e+00],\n",
       "        [-8.8250e-01, -8.4933e-01, -2.8863e-01,  2.4069e-01, -8.3426e-01],\n",
       "        [-3.4452e-02,  7.4327e-01,  8.7096e-01, -1.4485e+00,  2.5333e-01],\n",
       "        [ 8.3334e-01,  3.8053e-02, -6.9588e-01, -6.9664e-02,  2.0390e+00],\n",
       "        [ 5.3067e-01, -1.5171e+00,  8.6450e-01, -5.1361e-01,  8.2928e-01],\n",
       "        [ 1.3893e-01, -6.5568e-01, -2.4626e-02, -1.1799e+00, -3.1120e-01],\n",
       "        [-4.2459e-01,  6.1266e-01,  1.6452e+00,  1.4130e+00, -2.9138e+00],\n",
       "        [-6.1318e-02,  2.2459e+00,  5.2970e-01, -9.4453e-01, -4.9273e-01],\n",
       "        [ 2.1063e+00,  1.7212e-02, -3.4209e-01,  1.0101e-03,  2.9493e+00],\n",
       "        [-1.5780e+00, -1.6166e+00, -2.2496e+00, -7.3520e-02,  5.4025e-01],\n",
       "        [ 2.0821e-01,  7.8227e-02, -1.6582e-01, -1.0299e+00, -1.0514e+00],\n",
       "        [-8.3913e-03, -1.3667e+00,  1.5613e+00,  1.6734e+00,  1.5335e+00],\n",
       "        [-4.4426e-01,  6.6555e-01,  7.7299e-01, -1.5253e+00, -1.0530e-01],\n",
       "        [-6.3924e-01,  1.2658e+00, -4.5827e-01,  7.9388e-01, -1.5483e-01],\n",
       "        [ 1.1982e+00,  8.2197e-01,  2.2738e-02, -1.4377e+00,  1.0282e+00],\n",
       "        [ 3.3674e-02,  5.1506e-01, -2.0294e+00,  2.1721e-01,  1.3210e-01],\n",
       "        [-1.1785e+00, -7.8547e-02,  8.1396e-01,  1.3429e-01, -1.1198e-01]])"
      ]
     },
     "execution_count": 150,
     "metadata": {},
     "output_type": "execute_result"
    }
   ],
   "source": [
    "input = input.view(-1, 5)\n",
    "input"
   ]
  },
  {
   "cell_type": "code",
   "execution_count": 152,
   "metadata": {},
   "outputs": [
    {
     "data": {
      "text/plain": [
       "tensor([[[-1.6138e+00,  6.3239e-01, -2.2832e+00,  1.5254e+00,  6.1059e-01,\n",
       "           1.0362e+00,  1.2422e+00, -3.9532e-01, -5.8745e-01,  1.4121e+00,\n",
       "          -8.9898e-01, -3.8150e-01,  1.6909e+00,  7.6081e-01,  4.5921e-02,\n",
       "           2.4033e-01,  2.1148e-01, -9.5684e-02,  6.2390e-01,  4.0387e-01,\n",
       "           4.5510e-01, -1.3155e+00, -4.1844e-01,  1.1429e+00,  3.6841e-01,\n",
       "           2.1626e+00,  2.9099e-02,  2.0649e-02, -1.4189e+00,  1.4562e+00,\n",
       "           3.2000e-01,  1.6950e+00, -9.2032e-01,  1.4454e-01, -1.0241e+00,\n",
       "           6.3031e-01,  4.0703e-01,  4.0836e-01, -6.1746e-01,  2.1072e+00,\n",
       "          -3.4915e-01, -7.9907e-01,  1.9772e+00, -2.0166e-01,  1.5471e+00],\n",
       "         [ 1.4314e-01,  1.3646e+00,  1.8309e-01, -9.2163e-01,  1.0790e-01,\n",
       "          -3.1746e-01,  1.8292e+00,  1.2066e+00,  4.7163e-01,  7.2576e-01,\n",
       "          -1.0275e-01, -3.2090e-01,  9.7740e-01,  6.8282e-01,  1.4440e+00,\n",
       "          -9.2377e-01,  1.0290e+00, -3.9652e-01, -5.6842e-01,  1.0524e+00,\n",
       "          -1.0799e+00,  1.6387e+00, -1.1449e+00,  9.3314e-01,  7.0569e-01,\n",
       "           1.0742e-01,  6.2014e-01,  1.1871e+00, -5.0473e-01, -1.1449e-01,\n",
       "           8.8735e-01,  8.7100e-01,  2.5100e+00, -8.0030e-01, -7.6004e-01,\n",
       "          -7.7044e-01,  1.5640e+00, -3.4836e-03,  4.1348e-01, -9.7686e-01,\n",
       "           1.0051e+00, -2.9657e-01,  3.1832e-01, -1.9208e-01, -1.4318e+00],\n",
       "         [ 1.5051e+00,  1.2450e+00, -1.8485e+00,  7.2496e-01, -1.9769e-01,\n",
       "           1.2988e+00,  7.8171e-01, -2.6128e-01,  1.8113e-01,  7.0431e-01,\n",
       "          -3.6435e-01, -1.5255e+00, -9.4870e-01,  1.0082e+00, -3.3255e-01,\n",
       "           7.4187e-01,  4.4405e-01, -7.2905e-01,  1.1172e+00, -1.1970e-01,\n",
       "           8.5562e-02, -7.2725e-01, -3.3980e+00, -1.5216e-01, -8.2247e-01,\n",
       "           1.2497e+00, -7.1624e-01, -3.0361e-01, -2.8710e-01,  2.1374e-01,\n",
       "           8.0062e-01, -3.1576e-01,  7.5785e-01, -5.0623e-01,  6.5731e-01,\n",
       "          -1.2306e+00, -3.7861e-02, -5.3425e-01,  2.7556e+00,  7.7568e-01,\n",
       "          -1.5045e+00, -4.8527e-01, -2.0153e+00, -6.5113e-02, -7.7552e-01],\n",
       "         [ 3.4751e-01, -6.5933e-01,  1.6230e+00, -1.3768e+00,  1.5324e+00,\n",
       "          -9.8382e-01, -3.5961e-01, -1.2078e+00,  1.0483e+00, -8.9756e-02,\n",
       "           2.2641e+00, -7.9444e-01,  1.5547e-01,  1.2395e+00,  5.5045e-01,\n",
       "          -2.1224e+00,  1.0992e+00, -6.1330e-02, -1.4031e+00, -8.7522e-01,\n",
       "          -7.6287e-01,  1.6794e-01,  5.9941e-01,  5.5764e-01,  8.9339e-01,\n",
       "           7.2895e-01, -1.9056e+00,  9.3627e-01, -6.6755e-01, -7.1604e-01,\n",
       "          -9.7370e-01, -1.2227e+00, -1.0471e+00, -1.0488e+00, -4.7504e-01,\n",
       "           5.9528e-01, -1.3974e+00,  4.5334e-01, -1.5193e-01,  1.2041e+00,\n",
       "           1.1992e+00, -1.5394e+00,  1.2937e+00,  5.8312e-01, -1.3995e+00],\n",
       "         [-4.9133e-01,  1.3176e+00, -1.4419e+00,  1.0269e+00, -1.0487e+00,\n",
       "          -4.3289e-01, -2.0355e-01, -1.1762e+00,  9.9316e-01,  1.6522e-01,\n",
       "          -6.6011e-01,  2.1236e+00,  9.8261e-01,  1.1721e+00,  1.0479e-01,\n",
       "          -5.2262e-02, -1.2644e-01,  1.1629e+00, -5.9018e-01, -4.9305e-01,\n",
       "           4.4332e-01, -1.4564e-02, -1.5731e-01,  1.3459e+00, -1.4112e-01,\n",
       "           9.6962e-01,  1.6306e-02, -9.9216e-01, -1.2278e+00, -5.6039e-01,\n",
       "          -9.6282e-01,  5.2388e-02, -5.1959e-01,  4.3696e-01,  9.0356e-01,\n",
       "           9.4385e-02,  9.7719e-02, -1.1208e+00,  1.5680e+00,  2.4537e-02,\n",
       "          -1.5003e+00,  7.5792e-01, -1.9562e+00,  6.9738e-02,  4.6338e-01]],\n",
       "\n",
       "        [[-1.1914e+00, -3.2917e-01, -4.5344e-01,  4.9974e-01, -5.9338e-01,\n",
       "          -1.3875e+00, -1.3289e+00,  1.7874e+00, -3.3230e+00,  1.1437e+00,\n",
       "           1.1063e+00, -1.2995e+00, -3.0239e-01,  1.3377e+00,  1.7020e+00,\n",
       "           1.4567e+00, -2.6215e-02, -6.2257e-01, -1.1015e+00,  9.2171e-01,\n",
       "          -3.5544e-02, -5.1107e-01,  4.6201e-01,  2.2959e+00, -1.5321e+00,\n",
       "          -6.0942e-01,  7.6402e-01, -1.9047e-01,  4.0133e-01,  7.9352e-01,\n",
       "           4.9249e-01,  1.0150e-01,  1.1835e+00, -2.1983e+00,  7.6787e-01,\n",
       "           7.6131e-01, -1.2094e+00, -3.1873e-01,  6.2707e-01, -6.7786e-01,\n",
       "           2.8694e+00, -8.1202e-01, -2.7288e-01,  1.1138e-02, -3.0089e-01],\n",
       "         [ 1.0406e+00, -1.6094e-01,  2.3761e+00,  2.4720e+00,  9.3581e-01,\n",
       "           2.9774e+00, -1.3833e-01, -1.6512e+00, -8.1090e-01,  1.2183e+00,\n",
       "          -8.8668e-01,  2.4384e+00, -1.0996e-01, -4.1516e-01,  1.2459e+00,\n",
       "           2.9606e-01,  5.3186e-01, -3.9639e-01, -7.2034e-01, -1.0636e+00,\n",
       "           8.9434e-01,  1.7133e-01, -1.8233e-02,  8.2975e-01,  5.8399e-01,\n",
       "          -1.4407e+00,  9.7889e-01,  1.1877e-01,  5.9999e-02, -1.4779e+00,\n",
       "           6.6264e-01, -1.7000e+00,  1.2196e+00, -3.8899e-02,  1.7510e+00,\n",
       "          -9.1594e-01, -1.2488e+00, -5.7338e-01, -2.9521e-01, -6.7031e-02,\n",
       "           7.3483e-01, -9.0741e-01,  1.2992e+00, -3.2147e-01, -2.3713e-01],\n",
       "         [ 1.3505e-01, -6.2019e-01, -1.3031e+00, -2.3860e+00, -1.4654e+00,\n",
       "           4.8798e-01,  2.2333e+00, -6.5355e-01, -8.6570e-01, -1.5011e+00,\n",
       "           3.2055e-02,  3.9125e-01,  1.6579e+00,  8.5119e-01, -6.1561e-01,\n",
       "          -4.3461e-01, -1.0453e+00,  4.2023e-01, -1.4500e+00,  1.1022e+00,\n",
       "          -6.8923e-02, -9.7946e-01, -1.1602e+00,  5.7012e-01,  9.3025e-01,\n",
       "          -3.6750e-01,  8.4403e-01, -6.0626e-01, -6.6063e-01, -3.0809e-01,\n",
       "           8.4716e-03,  1.4746e+00, -4.4201e-01, -7.4489e-01,  5.5303e-01,\n",
       "           7.8427e-01,  1.3140e+00, -8.2769e-01, -9.8486e-02, -1.8088e+00,\n",
       "          -1.4140e+00,  1.0683e+00, -2.1496e-01, -1.0619e+00, -1.5034e+00],\n",
       "         [ 4.2155e-01, -1.4354e+00, -1.4936e-02,  9.1733e-01, -1.4063e+00,\n",
       "          -1.7906e-01,  6.1014e-02,  2.1412e+00,  3.3392e-02,  1.8983e+00,\n",
       "          -8.8250e-01, -8.4933e-01, -2.8863e-01,  2.4069e-01, -8.3426e-01,\n",
       "          -3.4452e-02,  7.4327e-01,  8.7096e-01, -1.4485e+00,  2.5333e-01,\n",
       "           8.3334e-01,  3.8053e-02, -6.9588e-01, -6.9664e-02,  2.0390e+00,\n",
       "           5.3067e-01, -1.5171e+00,  8.6450e-01, -5.1361e-01,  8.2928e-01,\n",
       "           1.3893e-01, -6.5568e-01, -2.4626e-02, -1.1799e+00, -3.1120e-01,\n",
       "          -4.2459e-01,  6.1266e-01,  1.6452e+00,  1.4130e+00, -2.9138e+00,\n",
       "          -6.1318e-02,  2.2459e+00,  5.2970e-01, -9.4453e-01, -4.9273e-01],\n",
       "         [ 2.1063e+00,  1.7212e-02, -3.4209e-01,  1.0101e-03,  2.9493e+00,\n",
       "          -1.5780e+00, -1.6166e+00, -2.2496e+00, -7.3520e-02,  5.4025e-01,\n",
       "           2.0821e-01,  7.8227e-02, -1.6582e-01, -1.0299e+00, -1.0514e+00,\n",
       "          -8.3913e-03, -1.3667e+00,  1.5613e+00,  1.6734e+00,  1.5335e+00,\n",
       "          -4.4426e-01,  6.6555e-01,  7.7299e-01, -1.5253e+00, -1.0530e-01,\n",
       "          -6.3924e-01,  1.2658e+00, -4.5827e-01,  7.9388e-01, -1.5483e-01,\n",
       "           1.1982e+00,  8.2197e-01,  2.2738e-02, -1.4377e+00,  1.0282e+00,\n",
       "           3.3674e-02,  5.1506e-01, -2.0294e+00,  2.1721e-01,  1.3210e-01,\n",
       "          -1.1785e+00, -7.8547e-02,  8.1396e-01,  1.3429e-01, -1.1198e-01]]])"
      ]
     },
     "execution_count": 152,
     "metadata": {},
     "output_type": "execute_result"
    }
   ],
   "source": [
    "input = input.view(2, 5, -1)\n",
    "input"
   ]
  },
  {
   "cell_type": "code",
   "execution_count": 77,
   "metadata": {},
   "outputs": [
    {
     "data": {
      "text/plain": [
       "tensor([[-1.2988, -2.0953, -1.9439, -0.0422,  0.1306,  0.3742, -0.0788],\n",
       "        [-0.2944,  2.9790, -0.0356, -1.0226,  1.6753,  1.1189,  1.1823],\n",
       "        [-0.0696, -0.5503, -0.2964, -0.8635,  2.1796, -0.2591, -0.7912],\n",
       "        [-1.4386, -0.2678, -0.7445, -0.8222,  1.4264,  2.8123, -0.5126],\n",
       "        [ 0.8333,  0.2021,  1.2158, -1.0023,  0.0768, -0.1135,  0.5591],\n",
       "        [-0.4627, -0.7341,  1.5392, -0.7884,  0.6950,  0.1831, -0.8909],\n",
       "        [ 0.1589,  0.0059, -1.7278,  1.2986,  1.2353,  0.4061,  0.3413],\n",
       "        [-0.6234, -0.2396,  0.2881, -1.2215,  0.7187,  0.0494, -1.1359],\n",
       "        [-1.3286,  1.3639,  0.2342, -1.0540,  0.9567, -1.8382,  0.0535],\n",
       "        [-0.9343, -1.8863, -1.5991, -1.9281, -0.0214,  0.7243, -0.9416],\n",
       "        [-0.1981,  0.1384,  1.1618, -0.1543, -0.2215, -0.0521, -1.4819],\n",
       "        [-0.4426,  0.3478,  0.3288,  0.1260,  1.2477,  0.0631, -0.5665],\n",
       "        [ 1.2982, -0.6365, -0.4069, -0.8846,  0.4556,  0.5436, -2.0896],\n",
       "        [-1.4886,  0.2036, -0.1400, -2.4167, -0.5505, -0.1809,  0.2568],\n",
       "        [ 0.2125, -1.1566,  0.2167, -0.2524,  0.2424,  1.0251, -0.9505],\n",
       "        [ 0.0797,  2.2992, -1.2011,  0.4482,  0.0175,  0.9453,  1.2602],\n",
       "        [ 1.5992,  0.4943,  0.6558, -0.1302,  0.0742,  1.0284, -0.9368],\n",
       "        [-1.5774,  1.0899,  1.1233,  0.3582,  0.0738, -0.5670, -2.2157],\n",
       "        [-1.1025, -0.6994,  0.1278, -1.3596,  1.2769,  1.3273,  0.4071],\n",
       "        [-0.6857,  0.5784,  1.7599,  0.7075, -0.1037,  0.2580, -0.0732]])"
      ]
     },
     "execution_count": 77,
     "metadata": {},
     "output_type": "execute_result"
    }
   ],
   "source": [
    "output = torch.randn(20, 7)\n",
    "output"
   ]
  },
  {
   "cell_type": "code",
   "execution_count": 78,
   "metadata": {},
   "outputs": [
    {
     "data": {
      "text/plain": [
       "tensor([5, 1, 4, 5, 2, 2, 3, 4, 1, 5, 2, 4, 0, 6, 5, 1, 0, 2, 5, 2])"
      ]
     },
     "execution_count": 78,
     "metadata": {},
     "output_type": "execute_result"
    }
   ],
   "source": [
    "pred = torch.argmax(output, dim=-1)\n",
    "pred"
   ]
  },
  {
   "cell_type": "code",
   "execution_count": 79,
   "metadata": {},
   "outputs": [
    {
     "data": {
      "text/plain": [
       "tensor([5, 1, 4, 5, 2, 2, 3, 4, 1, 5, 2, 4, 0, 6, 5, 1, 0, 2, 5, 2])"
      ]
     },
     "execution_count": 79,
     "metadata": {},
     "output_type": "execute_result"
    }
   ],
   "source": [
    "_, predicted = torch.max(output, 1)\n",
    "predicted"
   ]
  },
  {
   "cell_type": "code",
   "execution_count": 91,
   "metadata": {},
   "outputs": [
    {
     "data": {
      "text/plain": [
       "array([1, 2, 3, 4, 5, 6, 7, 8, 9, 1, 2, 3, 4, 5, 6, 7, 8, 9, 1, 2, 3, 4,\n",
       "       5, 6, 7, 8, 9, 1, 2, 3, 4, 5, 6, 7, 8, 9, 1, 2, 3, 4, 5, 6, 7, 8,\n",
       "       9, 1, 2, 3, 4, 5, 6, 7, 8, 9])"
      ]
     },
     "execution_count": 91,
     "metadata": {},
     "output_type": "execute_result"
    }
   ],
   "source": [
    "from sklearn.metrics import confusion_matrix\n",
    "import numpy as np\n",
    "\n",
    "time1 = np.array([1, 2, 3, 4, 5, 6, 7, 8, 9])\n",
    "time2 = np.array([1, 2, 4, 4, 5, 6, 7, 8, 9])\n",
    "y_true = [time1, time1, time1, time1, time1, time1]\n",
    "y_pred = [time2, time2, time2, time2, time2, time2]\n",
    "# confusion_matrix(y_true, y_pred)\n",
    "# y_true = np.array(y_true).reshape(-1)\n",
    "# y_pred = np.array(y_pred).reshape(-1)\n",
    "y_true = np.concatenate(y_true).ravel()\n",
    "y_true"
   ]
  },
  {
   "cell_type": "code",
   "execution_count": 150,
   "metadata": {},
   "outputs": [
    {
     "name": "stdout",
     "output_type": "stream",
     "text": [
      "model1, 10\n",
      "-----------\n",
      "model1, 9\n",
      "model2, 10\n",
      "-----------\n",
      "model1, 8\n",
      "model2, 9\n",
      "model3, 10\n",
      "-----------\n",
      "model1, 7\n",
      "model2, 8\n",
      "model3, 9\n",
      "-----------\n",
      "model1, 6\n",
      "model2, 7\n",
      "model3, 8\n",
      "-----------\n",
      "model1, 5\n",
      "model2, 6\n",
      "model3, 7\n",
      "-----------\n",
      "model1, 4\n",
      "model2, 5\n",
      "model3, 6\n",
      "-----------\n",
      "model1, 3\n",
      "model2, 4\n",
      "model3, 5\n",
      "-----------\n",
      "model1, 2\n",
      "model2, 3\n",
      "model3, 4\n",
      "-----------\n",
      "model1, 1\n",
      "model2, 2\n",
      "model3, 3\n",
      "-----------\n"
     ]
    }
   ],
   "source": [
    "# array of np.inf of size 3\n",
    "bestval = float('inf')\n",
    "top3 = []\n",
    "val = [10, 9, 8, 7, 6, 5, 4, 3, 2, 1]\n",
    "for i in val:\n",
    "    if i < bestval:\n",
    "        bestval = i\n",
    "        top3.append(i)\n",
    "        top3.sort()\n",
    "        top3 = top3[:3]\n",
    "        for idx, j in enumerate(top3):\n",
    "            print(f'model{idx+1}, {j}')\n",
    "    print(f'-----------')\n"
   ]
  },
  {
   "cell_type": "code",
   "execution_count": 157,
   "metadata": {},
   "outputs": [
    {
     "data": {
      "text/plain": [
       "'runs/STGCNLSTM'"
      ]
     },
     "execution_count": 157,
     "metadata": {},
     "output_type": "execute_result"
    }
   ],
   "source": [
    "model_path = \"runs/STGCNLSTM/model-top\"\n",
    "model_path.rsplit('/', 1)[0]"
   ]
  }
 ],
 "metadata": {
  "kernelspec": {
   "display_name": "dl",
   "language": "python",
   "name": "python3"
  },
  "language_info": {
   "codemirror_mode": {
    "name": "ipython",
    "version": 3
   },
   "file_extension": ".py",
   "mimetype": "text/x-python",
   "name": "python",
   "nbconvert_exporter": "python",
   "pygments_lexer": "ipython3",
   "version": "3.11.4"
  },
  "orig_nbformat": 4
 },
 "nbformat": 4,
 "nbformat_minor": 2
}
